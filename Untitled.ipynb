{
 "cells": [
  {
   "cell_type": "code",
   "execution_count": 1,
   "id": "0a9901cf-990f-4b06-87af-bc4cb1fce5d4",
   "metadata": {},
   "outputs": [],
   "source": [
    "import pandas as pd\n",
    "import numpy as np\n",
    "import seaborn as sns\n",
    "import matplotlib.pyplot as plt\n",
    "import warnings\n",
    "warnings.filterwarnings('ignore')\n"
   ]
  },
  {
   "cell_type": "code",
   "execution_count": 2,
   "id": "8de8f2ed-3a95-4587-9b91-16e651af9fe9",
   "metadata": {},
   "outputs": [],
   "source": [
    "train_data=pd.read_csv(\"train.csv\",index_col=[0])\n",
    "test_data=pd.read_csv('test.csv',index_col=[0])"
   ]
  },
  {
   "cell_type": "code",
   "execution_count": 3,
   "id": "a5300304-e296-4a9c-80e9-89865a178ffa",
   "metadata": {},
   "outputs": [
    {
     "data": {
      "text/html": [
       "<div>\n",
       "<style scoped>\n",
       "    .dataframe tbody tr th:only-of-type {\n",
       "        vertical-align: middle;\n",
       "    }\n",
       "\n",
       "    .dataframe tbody tr th {\n",
       "        vertical-align: top;\n",
       "    }\n",
       "\n",
       "    .dataframe thead th {\n",
       "        text-align: right;\n",
       "    }\n",
       "</style>\n",
       "<table border=\"1\" class=\"dataframe\">\n",
       "  <thead>\n",
       "    <tr style=\"text-align: right;\">\n",
       "      <th></th>\n",
       "      <th>N_Days</th>\n",
       "      <th>Drug</th>\n",
       "      <th>Age</th>\n",
       "      <th>Sex</th>\n",
       "      <th>Ascites</th>\n",
       "      <th>Hepatomegaly</th>\n",
       "      <th>Spiders</th>\n",
       "      <th>Edema</th>\n",
       "      <th>Bilirubin</th>\n",
       "      <th>Cholesterol</th>\n",
       "      <th>Albumin</th>\n",
       "      <th>Copper</th>\n",
       "      <th>Alk_Phos</th>\n",
       "      <th>SGOT</th>\n",
       "      <th>Tryglicerides</th>\n",
       "      <th>Platelets</th>\n",
       "      <th>Prothrombin</th>\n",
       "      <th>Stage</th>\n",
       "      <th>Status</th>\n",
       "    </tr>\n",
       "    <tr>\n",
       "      <th>id</th>\n",
       "      <th></th>\n",
       "      <th></th>\n",
       "      <th></th>\n",
       "      <th></th>\n",
       "      <th></th>\n",
       "      <th></th>\n",
       "      <th></th>\n",
       "      <th></th>\n",
       "      <th></th>\n",
       "      <th></th>\n",
       "      <th></th>\n",
       "      <th></th>\n",
       "      <th></th>\n",
       "      <th></th>\n",
       "      <th></th>\n",
       "      <th></th>\n",
       "      <th></th>\n",
       "      <th></th>\n",
       "      <th></th>\n",
       "    </tr>\n",
       "  </thead>\n",
       "  <tbody>\n",
       "    <tr>\n",
       "      <th>0</th>\n",
       "      <td>999</td>\n",
       "      <td>D-penicillamine</td>\n",
       "      <td>21532</td>\n",
       "      <td>M</td>\n",
       "      <td>N</td>\n",
       "      <td>N</td>\n",
       "      <td>N</td>\n",
       "      <td>N</td>\n",
       "      <td>2.3</td>\n",
       "      <td>316.0</td>\n",
       "      <td>3.35</td>\n",
       "      <td>172.0</td>\n",
       "      <td>1601.0</td>\n",
       "      <td>179.80</td>\n",
       "      <td>63.0</td>\n",
       "      <td>394.0</td>\n",
       "      <td>9.7</td>\n",
       "      <td>3.0</td>\n",
       "      <td>D</td>\n",
       "    </tr>\n",
       "    <tr>\n",
       "      <th>1</th>\n",
       "      <td>2574</td>\n",
       "      <td>Placebo</td>\n",
       "      <td>19237</td>\n",
       "      <td>F</td>\n",
       "      <td>N</td>\n",
       "      <td>N</td>\n",
       "      <td>N</td>\n",
       "      <td>N</td>\n",
       "      <td>0.9</td>\n",
       "      <td>364.0</td>\n",
       "      <td>3.54</td>\n",
       "      <td>63.0</td>\n",
       "      <td>1440.0</td>\n",
       "      <td>134.85</td>\n",
       "      <td>88.0</td>\n",
       "      <td>361.0</td>\n",
       "      <td>11.0</td>\n",
       "      <td>3.0</td>\n",
       "      <td>C</td>\n",
       "    </tr>\n",
       "    <tr>\n",
       "      <th>2</th>\n",
       "      <td>3428</td>\n",
       "      <td>Placebo</td>\n",
       "      <td>13727</td>\n",
       "      <td>F</td>\n",
       "      <td>N</td>\n",
       "      <td>Y</td>\n",
       "      <td>Y</td>\n",
       "      <td>Y</td>\n",
       "      <td>3.3</td>\n",
       "      <td>299.0</td>\n",
       "      <td>3.55</td>\n",
       "      <td>131.0</td>\n",
       "      <td>1029.0</td>\n",
       "      <td>119.35</td>\n",
       "      <td>50.0</td>\n",
       "      <td>199.0</td>\n",
       "      <td>11.7</td>\n",
       "      <td>4.0</td>\n",
       "      <td>D</td>\n",
       "    </tr>\n",
       "    <tr>\n",
       "      <th>3</th>\n",
       "      <td>2576</td>\n",
       "      <td>Placebo</td>\n",
       "      <td>18460</td>\n",
       "      <td>F</td>\n",
       "      <td>N</td>\n",
       "      <td>N</td>\n",
       "      <td>N</td>\n",
       "      <td>N</td>\n",
       "      <td>0.6</td>\n",
       "      <td>256.0</td>\n",
       "      <td>3.50</td>\n",
       "      <td>58.0</td>\n",
       "      <td>1653.0</td>\n",
       "      <td>71.30</td>\n",
       "      <td>96.0</td>\n",
       "      <td>269.0</td>\n",
       "      <td>10.7</td>\n",
       "      <td>3.0</td>\n",
       "      <td>C</td>\n",
       "    </tr>\n",
       "    <tr>\n",
       "      <th>4</th>\n",
       "      <td>788</td>\n",
       "      <td>Placebo</td>\n",
       "      <td>16658</td>\n",
       "      <td>F</td>\n",
       "      <td>N</td>\n",
       "      <td>Y</td>\n",
       "      <td>N</td>\n",
       "      <td>N</td>\n",
       "      <td>1.1</td>\n",
       "      <td>346.0</td>\n",
       "      <td>3.65</td>\n",
       "      <td>63.0</td>\n",
       "      <td>1181.0</td>\n",
       "      <td>125.55</td>\n",
       "      <td>96.0</td>\n",
       "      <td>298.0</td>\n",
       "      <td>10.6</td>\n",
       "      <td>4.0</td>\n",
       "      <td>C</td>\n",
       "    </tr>\n",
       "  </tbody>\n",
       "</table>\n",
       "</div>"
      ],
      "text/plain": [
       "    N_Days             Drug    Age Sex Ascites Hepatomegaly Spiders Edema  \\\n",
       "id                                                                          \n",
       "0      999  D-penicillamine  21532   M       N            N       N     N   \n",
       "1     2574          Placebo  19237   F       N            N       N     N   \n",
       "2     3428          Placebo  13727   F       N            Y       Y     Y   \n",
       "3     2576          Placebo  18460   F       N            N       N     N   \n",
       "4      788          Placebo  16658   F       N            Y       N     N   \n",
       "\n",
       "    Bilirubin  Cholesterol  Albumin  Copper  Alk_Phos    SGOT  Tryglicerides  \\\n",
       "id                                                                             \n",
       "0         2.3        316.0     3.35   172.0    1601.0  179.80           63.0   \n",
       "1         0.9        364.0     3.54    63.0    1440.0  134.85           88.0   \n",
       "2         3.3        299.0     3.55   131.0    1029.0  119.35           50.0   \n",
       "3         0.6        256.0     3.50    58.0    1653.0   71.30           96.0   \n",
       "4         1.1        346.0     3.65    63.0    1181.0  125.55           96.0   \n",
       "\n",
       "    Platelets  Prothrombin  Stage Status  \n",
       "id                                        \n",
       "0       394.0          9.7    3.0      D  \n",
       "1       361.0         11.0    3.0      C  \n",
       "2       199.0         11.7    4.0      D  \n",
       "3       269.0         10.7    3.0      C  \n",
       "4       298.0         10.6    4.0      C  "
      ]
     },
     "execution_count": 3,
     "metadata": {},
     "output_type": "execute_result"
    }
   ],
   "source": [
    "train_data.head()"
   ]
  },
  {
   "cell_type": "markdown",
   "id": "9693e7f8-9849-4e53-80df-147d398aa1d3",
   "metadata": {},
   "source": [
    "### Encoding catagorical values"
   ]
  },
  {
   "cell_type": "code",
   "execution_count": 4,
   "id": "3e3aadf2-1a05-441b-913d-9b48fbf6f88a",
   "metadata": {},
   "outputs": [],
   "source": [
    "from sklearn.preprocessing import LabelEncoder\n",
    "Le=LabelEncoder()"
   ]
  },
  {
   "cell_type": "code",
   "execution_count": 5,
   "id": "a49e7cdf-fefa-49c8-9040-35211f687f22",
   "metadata": {},
   "outputs": [
    {
     "data": {
      "text/plain": [
       "Index(['Drug', 'Sex', 'Ascites', 'Hepatomegaly', 'Spiders', 'Edema', 'Status'], dtype='object')"
      ]
     },
     "execution_count": 5,
     "metadata": {},
     "output_type": "execute_result"
    }
   ],
   "source": [
    "cols_object=train_data.select_dtypes('object').columns\n",
    "cols_object"
   ]
  },
  {
   "cell_type": "code",
   "execution_count": 6,
   "id": "4c1d1199-58cd-4af0-9128-9a29e4d4fbe8",
   "metadata": {},
   "outputs": [
    {
     "data": {
      "text/plain": [
       "Index(['Drug', 'Sex', 'Ascites', 'Hepatomegaly', 'Spiders', 'Edema'], dtype='object')"
      ]
     },
     "execution_count": 6,
     "metadata": {},
     "output_type": "execute_result"
    }
   ],
   "source": [
    "cols_object=cols_object.delete(-1)#as The status is the target variable\n",
    "cols_object"
   ]
  },
  {
   "cell_type": "code",
   "execution_count": 7,
   "id": "0b4ec536-3c8d-46c2-8383-f9df2acc3489",
   "metadata": {},
   "outputs": [],
   "source": [
    "#converting the object type data to intiger type\n",
    "for i in cols_object:\n",
    "    train_data[i]=Le.fit_transform(train_data[i])\n",
    "    test_data[i]=Le.transform(test_data[i])"
   ]
  },
  {
   "cell_type": "code",
   "execution_count": 8,
   "id": "ccc97f33-bc86-4986-970c-4ef3b5f9cad6",
   "metadata": {},
   "outputs": [
    {
     "data": {
      "image/png": "[encoded data removed]",
      "text/plain": [
       "<Figure size 1200x600 with 6 Axes>"
      ]
     },
     "metadata": {},
     "output_type": "display_data"
    }
   ],
   "source": [
    "plt.figure(figsize=(12,6))\n",
    "sns.countplot(data=train_data,x='Status',hue='Drug',ax=plt.subplot(2,3,1))\n",
    "sns.countplot(data=train_data,x='Status',hue='Sex',ax=plt.subplot(2,3,2))\n",
    "sns.countplot(data=train_data,x='Status',hue='Ascites',ax=plt.subplot(2,3,3))\n",
    "sns.countplot(data=train_data,x='Status',hue='Hepatomegaly',ax=plt.subplot(2,3,4))\n",
    "sns.countplot(data=train_data,x='Status',hue='Spiders',ax=plt.subplot(2,3,5))\n",
    "sns.countplot(data=train_data,x='Status',hue='Edema',ax=plt.subplot(2,3,6))\n",
    "plt.show()"
   ]
  },
  {
   "cell_type": "markdown",
   "id": "67285986-88fd-41a6-9047-c9327e59a8e9",
   "metadata": {},
   "source": [
    "### Split the data into features (X) and the target variable ('Status')"
   ]
  },
  {
   "cell_type": "code",
   "execution_count": 9,
   "id": "d6bb8d92-0651-4760-84d3-1fad07cc1cda",
   "metadata": {},
   "outputs": [],
   "source": [
    "X=train_data.drop('Status',axis=1)\n",
    "y=train_data['Status']"
   ]
  },
  {
   "cell_type": "markdown",
   "id": "fc211ca1-884c-42b5-9636-478cb01a364c",
   "metadata": {},
   "source": [
    "##### Standardize numerical features"
   ]
  },
  {
   "cell_type": "code",
   "execution_count": 10,
   "id": "0a042a43-3078-49a4-94af-4319ac0a87d4",
   "metadata": {},
   "outputs": [],
   "source": [
    "from sklearn.preprocessing import StandardScaler\n",
    "sc=StandardScaler()"
   ]
  },
  {
   "cell_type": "code",
   "execution_count": 11,
   "id": "a0a51f0f-aa92-4cd8-b3e2-8d4b40346a8e",
   "metadata": {},
   "outputs": [],
   "source": [
    "cols_num=train_data.select_dtypes(include='number').columns"
   ]
  },
  {
   "cell_type": "code",
   "execution_count": 12,
   "id": "b6cdf0ae-b07a-4f5d-a68e-c4591c474447",
   "metadata": {},
   "outputs": [],
   "source": [
    "X[X.select_dtypes(include='number').columns] = sc.fit_transform(X.select_dtypes(include='number'))"
   ]
  },
  {
   "cell_type": "markdown",
   "id": "f37c175a-071b-48c1-878e-b1461cab760f",
   "metadata": {},
   "source": [
    "##### Convert target column 'Status' to categorical"
   ]
  },
  {
   "cell_type": "code",
   "execution_count": 13,
   "id": "eaed6d5e-802f-4620-8feb-6c0609248e6f",
   "metadata": {},
   "outputs": [],
   "source": [
    "y_new=pd.get_dummies(y,prefix='Status')"
   ]
  },
  {
   "cell_type": "code",
   "execution_count": 14,
   "id": "b7ff5090-eda5-41fc-b92b-3cc66e795ce5",
   "metadata": {},
   "outputs": [
    {
     "data": {
      "text/html": [
       "<div>\n",
       "<style scoped>\n",
       "    .dataframe tbody tr th:only-of-type {\n",
       "        vertical-align: middle;\n",
       "    }\n",
       "\n",
       "    .dataframe tbody tr th {\n",
       "        vertical-align: top;\n",
       "    }\n",
       "\n",
       "    .dataframe thead th {\n",
       "        text-align: right;\n",
       "    }\n",
       "</style>\n",
       "<table border=\"1\" class=\"dataframe\">\n",
       "  <thead>\n",
       "    <tr style=\"text-align: right;\">\n",
       "      <th></th>\n",
       "      <th>Status_C</th>\n",
       "      <th>Status_CL</th>\n",
       "      <th>Status_D</th>\n",
       "    </tr>\n",
       "    <tr>\n",
       "      <th>id</th>\n",
       "      <th></th>\n",
       "      <th></th>\n",
       "      <th></th>\n",
       "    </tr>\n",
       "  </thead>\n",
       "  <tbody>\n",
       "    <tr>\n",
       "      <th>0</th>\n",
       "      <td>False</td>\n",
       "      <td>False</td>\n",
       "      <td>True</td>\n",
       "    </tr>\n",
       "    <tr>\n",
       "      <th>1</th>\n",
       "      <td>True</td>\n",
       "      <td>False</td>\n",
       "      <td>False</td>\n",
       "    </tr>\n",
       "  </tbody>\n",
       "</table>\n",
       "</div>"
      ],
      "text/plain": [
       "    Status_C  Status_CL  Status_D\n",
       "id                               \n",
       "0      False      False      True\n",
       "1       True      False     False"
      ]
     },
     "execution_count": 14,
     "metadata": {},
     "output_type": "execute_result"
    }
   ],
   "source": [
    "y_new.head(2)"
   ]
  },
  {
   "cell_type": "markdown",
   "id": "b9b1f37d-cd41-463d-8956-448bfbe1c429",
   "metadata": {},
   "source": [
    "##### Train-test split "
   ]
  },
  {
   "cell_type": "code",
   "execution_count": 15,
   "id": "3fe442a7-0c72-4185-8ada-5142d44ae8e7",
   "metadata": {},
   "outputs": [],
   "source": [
    "from sklearn.model_selection import train_test_split\n",
    "X_train,X_test,y_train,y_test=train_test_split(X,y_new,test_size=0.2,random_state=42)"
   ]
  },
  {
   "cell_type": "code",
   "execution_count": 16,
   "id": "5395e8c6-5310-4646-b62d-24165eb11a77",
   "metadata": {},
   "outputs": [
    {
     "name": "stdout",
     "output_type": "stream",
     "text": [
      "(6324, 18)\n",
      "(1581, 18)\n",
      "(6324, 3)\n",
      "(1581, 3)\n"
     ]
    }
   ],
   "source": [
    "print(X_train.shape)\n",
    "print(X_test.shape)\n",
    "print(y_train.shape)\n",
    "print(y_test.shape)"
   ]
  },
  {
   "cell_type": "markdown",
   "id": "0b4f4e25-106f-4e86-879e-0d52e8572b1b",
   "metadata": {},
   "source": [
    "##### Model Building"
   ]
  },
  {
   "cell_type": "code",
   "execution_count": 17,
   "id": "79923b7f-a6da-45f8-96ed-e70392cb2054",
   "metadata": {},
   "outputs": [],
   "source": [
    "import tensorflow as tf"
   ]
  },
  {
   "cell_type": "code",
   "execution_count": 18,
   "id": "2d0191b6-9b32-4a1c-9e6f-f2f0efef157d",
   "metadata": {},
   "outputs": [],
   "source": [
    "from tensorflow.keras.models import Sequential\n",
    "from tensorflow.keras import layers"
   ]
  },
  {
   "cell_type": "code",
   "execution_count": 19,
   "id": "0ea14c3f-0ff3-44fc-a3f3-33ab42bc6802",
   "metadata": {},
   "outputs": [],
   "source": [
    "model=Sequential([\n",
    "    layers.Dense(64, activation='relu', input_shape=(X_train.shape[1],)),\n",
    "    layers.Dense(32, activation='relu'),\n",
    "    layers.Dense(3, activation='softmax')  # Three classes for 'Status': C, CL, D\n",
    "])"
   ]
  },
  {
   "cell_type": "code",
   "execution_count": 20,
   "id": "f4511a2b-dd79-4402-8ca2-b0e9d253b971",
   "metadata": {},
   "outputs": [],
   "source": [
    "model.compile(optimizer='adam',loss='categorical_crossentropy',metrics=['accuracy'])\n"
   ]
  },
  {
   "cell_type": "code",
   "execution_count": 21,
   "id": "ce28b699-7181-44b9-8e64-7b2439c0ff0f",
   "metadata": {},
   "outputs": [
    {
     "name": "stdout",
     "output_type": "stream",
     "text": [
      "Epoch 1/20\n",
      "159/159 [==============================] - 1s 3ms/step - loss: 0.5863 - accuracy: 0.7843 - val_loss: 0.5456 - val_accuracy: 0.7858\n",
      "Epoch 2/20\n",
      "159/159 [==============================] - 0s 2ms/step - loss: 0.5095 - accuracy: 0.8079 - val_loss: 0.5344 - val_accuracy: 0.7850\n",
      "Epoch 3/20\n",
      "159/159 [==============================] - 0s 2ms/step - loss: 0.4936 - accuracy: 0.8091 - val_loss: 0.5253 - val_accuracy: 0.7937\n",
      "Epoch 4/20\n",
      "159/159 [==============================] - 0s 2ms/step - loss: 0.4822 - accuracy: 0.8162 - val_loss: 0.5188 - val_accuracy: 0.7905\n",
      "Epoch 5/20\n",
      "159/159 [==============================] - 0s 2ms/step - loss: 0.4717 - accuracy: 0.8166 - val_loss: 0.5150 - val_accuracy: 0.7953\n",
      "Epoch 6/20\n",
      "159/159 [==============================] - 0s 2ms/step - loss: 0.4641 - accuracy: 0.8189 - val_loss: 0.5245 - val_accuracy: 0.7921\n",
      "Epoch 7/20\n",
      "159/159 [==============================] - 0s 2ms/step - loss: 0.4566 - accuracy: 0.8227 - val_loss: 0.5215 - val_accuracy: 0.7937\n",
      "Epoch 8/20\n",
      "159/159 [==============================] - 0s 2ms/step - loss: 0.4505 - accuracy: 0.8249 - val_loss: 0.5149 - val_accuracy: 0.7913\n",
      "Epoch 9/20\n",
      "159/159 [==============================] - 0s 2ms/step - loss: 0.4435 - accuracy: 0.8276 - val_loss: 0.5132 - val_accuracy: 0.8000\n",
      "Epoch 10/20\n",
      "159/159 [==============================] - 0s 2ms/step - loss: 0.4373 - accuracy: 0.8296 - val_loss: 0.5155 - val_accuracy: 0.7953\n",
      "Epoch 11/20\n",
      "159/159 [==============================] - 0s 2ms/step - loss: 0.4333 - accuracy: 0.8328 - val_loss: 0.5195 - val_accuracy: 0.7929\n",
      "Epoch 12/20\n",
      "159/159 [==============================] - 0s 2ms/step - loss: 0.4270 - accuracy: 0.8347 - val_loss: 0.5218 - val_accuracy: 0.7874\n",
      "Epoch 13/20\n",
      "159/159 [==============================] - 0s 2ms/step - loss: 0.4233 - accuracy: 0.8395 - val_loss: 0.5221 - val_accuracy: 0.7921\n",
      "Epoch 14/20\n",
      "159/159 [==============================] - 0s 2ms/step - loss: 0.4189 - accuracy: 0.8399 - val_loss: 0.5226 - val_accuracy: 0.7929\n",
      "Epoch 15/20\n",
      "159/159 [==============================] - 0s 2ms/step - loss: 0.4146 - accuracy: 0.8375 - val_loss: 0.5295 - val_accuracy: 0.7897\n",
      "Epoch 16/20\n",
      "159/159 [==============================] - 0s 2ms/step - loss: 0.4092 - accuracy: 0.8432 - val_loss: 0.5302 - val_accuracy: 0.7874\n",
      "Epoch 17/20\n",
      "159/159 [==============================] - 0s 2ms/step - loss: 0.4046 - accuracy: 0.8492 - val_loss: 0.5262 - val_accuracy: 0.7913\n",
      "Epoch 18/20\n",
      "159/159 [==============================] - 0s 2ms/step - loss: 0.3994 - accuracy: 0.8452 - val_loss: 0.5302 - val_accuracy: 0.7874\n",
      "Epoch 19/20\n",
      "159/159 [==============================] - 0s 2ms/step - loss: 0.3966 - accuracy: 0.8486 - val_loss: 0.5307 - val_accuracy: 0.7850\n",
      "Epoch 20/20\n",
      "159/159 [==============================] - 0s 2ms/step - loss: 0.3915 - accuracy: 0.8500 - val_loss: 0.5353 - val_accuracy: 0.7858\n"
     ]
    },
    {
     "data": {
      "text/plain": [
       "<keras.callbacks.History at 0x1b993f137d0>"
      ]
     },
     "execution_count": 21,
     "metadata": {},
     "output_type": "execute_result"
    }
   ],
   "source": [
    "model.fit(X_train,y_train,epochs=20,batch_size=32,validation_split=0.2)"
   ]
  },
  {
   "cell_type": "code",
   "execution_count": 22,
   "id": "4ba9fc23-9947-424a-94b9-9e67c86b038a",
   "metadata": {},
   "outputs": [
    {
     "name": "stdout",
     "output_type": "stream",
     "text": [
      "50/50 [==============================] - 0s 1ms/step - loss: 0.5147 - accuracy: 0.8083\n"
     ]
    }
   ],
   "source": [
    "loss,accuracy=model.evaluate(X_test,y_test)\n"
   ]
  },
  {
   "cell_type": "code",
   "execution_count": 23,
   "id": "f7cb1906-4da3-474f-a083-2ece037c382e",
   "metadata": {},
   "outputs": [
    {
     "name": "stdout",
     "output_type": "stream",
     "text": [
      "Test accuracy: 80.83%\n"
     ]
    }
   ],
   "source": [
    "print(f'Test accuracy: {accuracy * 100:.2f}%')"
   ]
  },
  {
   "cell_type": "code",
   "execution_count": null,
   "id": "32f5bf8c-6811-4b5c-a36f-bd7bf261399d",
   "metadata": {},
   "outputs": [],
   "source": []
  },
  {
   "cell_type": "markdown",
   "id": "5d922c86-1045-4b4a-8928-3a7e37b26db0",
   "metadata": {},
   "source": [
    "#### AS model is merforming good so we will train on full data\n"
   ]
  },
  {
   "cell_type": "code",
   "execution_count": 26,
   "id": "aaf4446e-c758-47d9-a3d0-acb1764e14b6",
   "metadata": {},
   "outputs": [
    {
     "name": "stdout",
     "output_type": "stream",
     "text": [
      "248/248 [==============================] - 0s 2ms/step - loss: 0.4384 - accuracy: 0.8310\n"
     ]
    },
    {
     "data": {
      "text/plain": [
       "<keras.callbacks.History at 0x1b998f35750>"
      ]
     },
     "execution_count": 26,
     "metadata": {},
     "output_type": "execute_result"
    }
   ],
   "source": [
    "model.fit(X,y_new)"
   ]
  },
  {
   "cell_type": "code",
   "execution_count": 31,
   "id": "59b6df7f-ea34-402a-9624-242f9ba3c3ea",
   "metadata": {},
   "outputs": [],
   "source": [
    "test_data\n",
    "X1=test_data"
   ]
  },
  {
   "cell_type": "code",
   "execution_count": 35,
   "id": "7928b12f-113c-41e0-ad42-c71e91e763ff",
   "metadata": {},
   "outputs": [
    {
     "data": {
      "text/plain": [
       "18"
      ]
     },
     "execution_count": 35,
     "metadata": {},
     "output_type": "execute_result"
    }
   ],
   "source": [
    "len(X1.select_dtypes(include='number').columns)\n"
   ]
  },
  {
   "cell_type": "code",
   "execution_count": 36,
   "id": "2abfe0f1-d4d7-4726-a280-36c91c0e1738",
   "metadata": {},
   "outputs": [],
   "source": [
    "X1[X1.select_dtypes(include='number').columns]=sc.transform(X1.select_dtypes(include='number'))"
   ]
  },
  {
   "cell_type": "code",
   "execution_count": null,
   "id": "42f7a36e-04b5-4d3e-ac51-551c83bb56a0",
   "metadata": {},
   "outputs": [],
   "source": []
  },
  {
   "cell_type": "code",
   "execution_count": 39,
   "id": "2661f8bd-0de5-4f06-a25e-ed66d7378dd6",
   "metadata": {},
   "outputs": [
    {
     "name": "stdout",
     "output_type": "stream",
     "text": [
      "165/165 [==============================] - 0s 1ms/step\n"
     ]
    }
   ],
   "source": [
    "predicted_prob=model.predict(X1)"
   ]
  },
  {
   "cell_type": "code",
   "execution_count": 40,
   "id": "9d0f6228-6cc6-4297-94fd-a83e2bb9258f",
   "metadata": {},
   "outputs": [],
   "source": [
    "epsilon=1e-15\n",
    "predicted_prob=predicted_prob.clip(epsilon,1-epsilon)"
   ]
  },
  {
   "cell_type": "code",
   "execution_count": 41,
   "id": "4d6cc5fa-7a81-4c27-8fff-36dc9e685320",
   "metadata": {},
   "outputs": [],
   "source": [
    "predicted_prob_normlized=predicted_prob/predicted_prob.sum(axis=1,keepdims=True)"
   ]
  },
  {
   "cell_type": "code",
   "execution_count": 43,
   "id": "d114f132-163f-426a-b311-b2303f52acd4",
   "metadata": {},
   "outputs": [],
   "source": [
    "df=pd.DataFrame(predicted_prob_normlized,columns=['Status_C', 'Status_CL', 'Status_D'])"
   ]
  },
  {
   "cell_type": "code",
   "execution_count": 45,
   "id": "da44678c-7cba-470b-8c54-467805b9fd94",
   "metadata": {},
   "outputs": [],
   "source": [
    "df.index=test_data.index"
   ]
  },
  {
   "cell_type": "code",
   "execution_count": null,
   "id": "385dbdbf-3d88-4a58-8469-281fdd10e5a5",
   "metadata": {},
   "outputs": [],
   "source": [
    "\n",
    "# Normalize probabilities for each row\n",
    "predictions_proba_normalized = predictions_proba / predictions_proba.sum(axis=1, keepdims=True)\n",
    "\n",
    "# Format predictions for submission\n",
    "submission_df = pd.DataFrame(predictions_proba_normalized, columns=['Status_C', 'Status_CL', 'Status_D'])\n",
    "submission_df['Actual'] = y_test.idxmax(axis=1)\n",
    "\n",
    "# Display the DataFrame with predictions and actual values\n",
    "print(submission_df)\n"
   ]
  },
  {
   "cell_type": "code",
   "execution_count": 46,
   "id": "773eb435-a391-4ccc-8f32-0f79671440d3",
   "metadata": {},
   "outputs": [
    {
     "data": {
      "text/html": [
       "<div>\n",
       "<style scoped>\n",
       "    .dataframe tbody tr th:only-of-type {\n",
       "        vertical-align: middle;\n",
       "    }\n",
       "\n",
       "    .dataframe tbody tr th {\n",
       "        vertical-align: top;\n",
       "    }\n",
       "\n",
       "    .dataframe thead th {\n",
       "        text-align: right;\n",
       "    }\n",
       "</style>\n",
       "<table border=\"1\" class=\"dataframe\">\n",
       "  <thead>\n",
       "    <tr style=\"text-align: right;\">\n",
       "      <th></th>\n",
       "      <th>Status_C</th>\n",
       "      <th>Status_CL</th>\n",
       "      <th>Status_D</th>\n",
       "    </tr>\n",
       "    <tr>\n",
       "      <th>id</th>\n",
       "      <th></th>\n",
       "      <th></th>\n",
       "      <th></th>\n",
       "    </tr>\n",
       "  </thead>\n",
       "  <tbody>\n",
       "    <tr>\n",
       "      <th>7905</th>\n",
       "      <td>0.762858</td>\n",
       "      <td>0.011654</td>\n",
       "      <td>0.225488</td>\n",
       "    </tr>\n",
       "    <tr>\n",
       "      <th>7906</th>\n",
       "      <td>0.801952</td>\n",
       "      <td>0.121862</td>\n",
       "      <td>0.076186</td>\n",
       "    </tr>\n",
       "    <tr>\n",
       "      <th>7907</th>\n",
       "      <td>0.033501</td>\n",
       "      <td>0.009613</td>\n",
       "      <td>0.956886</td>\n",
       "    </tr>\n",
       "    <tr>\n",
       "      <th>7908</th>\n",
       "      <td>0.961950</td>\n",
       "      <td>0.002351</td>\n",
       "      <td>0.035698</td>\n",
       "    </tr>\n",
       "    <tr>\n",
       "      <th>7909</th>\n",
       "      <td>0.782772</td>\n",
       "      <td>0.013379</td>\n",
       "      <td>0.203849</td>\n",
       "    </tr>\n",
       "    <tr>\n",
       "      <th>...</th>\n",
       "      <td>...</td>\n",
       "      <td>...</td>\n",
       "      <td>...</td>\n",
       "    </tr>\n",
       "    <tr>\n",
       "      <th>13171</th>\n",
       "      <td>0.923797</td>\n",
       "      <td>0.022733</td>\n",
       "      <td>0.053470</td>\n",
       "    </tr>\n",
       "    <tr>\n",
       "      <th>13172</th>\n",
       "      <td>0.978097</td>\n",
       "      <td>0.002789</td>\n",
       "      <td>0.019114</td>\n",
       "    </tr>\n",
       "    <tr>\n",
       "      <th>13173</th>\n",
       "      <td>0.897274</td>\n",
       "      <td>0.006390</td>\n",
       "      <td>0.096336</td>\n",
       "    </tr>\n",
       "    <tr>\n",
       "      <th>13174</th>\n",
       "      <td>0.985000</td>\n",
       "      <td>0.012582</td>\n",
       "      <td>0.002417</td>\n",
       "    </tr>\n",
       "    <tr>\n",
       "      <th>13175</th>\n",
       "      <td>0.290517</td>\n",
       "      <td>0.010091</td>\n",
       "      <td>0.699393</td>\n",
       "    </tr>\n",
       "  </tbody>\n",
       "</table>\n",
       "<p>5271 rows × 3 columns</p>\n",
       "</div>"
      ],
      "text/plain": [
       "       Status_C  Status_CL  Status_D\n",
       "id                                  \n",
       "7905   0.762858   0.011654  0.225488\n",
       "7906   0.801952   0.121862  0.076186\n",
       "7907   0.033501   0.009613  0.956886\n",
       "7908   0.961950   0.002351  0.035698\n",
       "7909   0.782772   0.013379  0.203849\n",
       "...         ...        ...       ...\n",
       "13171  0.923797   0.022733  0.053470\n",
       "13172  0.978097   0.002789  0.019114\n",
       "13173  0.897274   0.006390  0.096336\n",
       "13174  0.985000   0.012582  0.002417\n",
       "13175  0.290517   0.010091  0.699393\n",
       "\n",
       "[5271 rows x 3 columns]"
      ]
     },
     "execution_count": 46,
     "metadata": {},
     "output_type": "execute_result"
    }
   ],
   "source": [
    "df"
   ]
  },
  {
   "cell_type": "code",
   "execution_count": 47,
   "id": "fc2f5e99-109a-49f7-87fe-17a51a9d2923",
   "metadata": {},
   "outputs": [],
   "source": [
    "df.to_csv(\"Sub.csv\")"
   ]
  },
  {
   "cell_type": "code",
   "execution_count": null,
   "id": "a1475e8f-49e5-4bdb-8f5d-73d9ea614a46",
   "metadata": {},
   "outputs": [],
   "source": []
  }
 ],
 "metadata": {
  "kernelspec": {
   "display_name": "Python 3 (ipykernel)",
   "language": "python",
   "name": "python3"
  },
  "language_info": {
   "codemirror_mode": {
    "name": "ipython",
    "version": 3
   },
   "file_extension": ".py",
   "mimetype": "text/x-python",
   "name": "python",
   "nbconvert_exporter": "python",
   "pygments_lexer": "ipython3",
   "version": "3.11.4"
  }
 },
 "nbformat": 4,
 "nbformat_minor": 5
}
